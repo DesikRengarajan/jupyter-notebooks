{
 "cells": [
  {
   "cell_type": "code",
   "execution_count": 1,
   "metadata": {},
   "outputs": [],
   "source": [
    "from vowpalwabbit import pyvw\n",
    "import json "
   ]
  },
  {
   "cell_type": "code",
   "execution_count": 2,
   "metadata": {},
   "outputs": [
    {
     "name": "stdout",
     "output_type": "stream",
     "text": [
      "{\"_label_cost\":-1,\"_label_probability\":0.8,\"_label_Action\":1,\"_labelIndex\":0,\"Version\":\"1\",\"EventId\":\"0074434d3a3a46529f65de8a59631939\",\"a\":[1,2],\"c\":{\"User\":{\"Name\":\"Tom\",\"tod\":\"22\",\"interest\":[1,2,3,4,5,6]},\"_multi\":[{\"Action\":{\"topic\":\"politics\"}},{\"Action\":{\"topic\":\"sports\"}}]},\"p\":[0.8,0.2],\"VWState\":{\"m\":\"NewsTrain\"}}\n"
     ]
    }
   ],
   "source": [
    "context='{\"_label_cost\":-1,\"_label_probability\":0.8,\"_label_Action\":1,\"_labelIndex\":0,\"Version\":\"1\",\"EventId\":\"0074434d3a3a46529f65de8a59631939\",\"a\":[1,2],\"c\":{\"User\":{\"Name\":\"Tom\",\"tod\":\"22\",\"interest\":[1,2,3,4,5,6]},\"_multi\":[{\"Action\":{\"topic\":\"politics\"}},{\"Action\":{\"topic\":\"sports\"}}]},\"p\":[0.8,0.2],\"VWState\":{\"m\":\"NewsTrain\"}}'\n",
    "print(context)"
   ]
  },
  {
   "cell_type": "code",
   "execution_count": 3,
   "metadata": {},
   "outputs": [
    {
     "name": "stdout",
     "output_type": "stream",
     "text": [
      "[0.3333333432674408, 0.3333333432674408, 0.3333333432674408]\n"
     ]
    }
   ],
   "source": [
    "# context=json.dumps(context)\n",
    "#print(context)\n",
    "vw = pyvw.vw(\"--cb_explore_adf -q UA --dsjson --quiet --epsilon 0.2\")\n",
    "pmf = vw.predict(context)\n",
    "print(pmf)"
   ]
  },
  {
   "cell_type": "code",
   "execution_count": null,
   "metadata": {},
   "outputs": [],
   "source": []
  }
 ],
 "metadata": {
  "kernelspec": {
   "display_name": "Python 3",
   "language": "python",
   "name": "python3"
  },
  "language_info": {
   "codemirror_mode": {
    "name": "ipython",
    "version": 3
   },
   "file_extension": ".py",
   "mimetype": "text/x-python",
   "name": "python",
   "nbconvert_exporter": "python",
   "pygments_lexer": "ipython3",
   "version": "3.6.10"
  }
 },
 "nbformat": 4,
 "nbformat_minor": 4
}
