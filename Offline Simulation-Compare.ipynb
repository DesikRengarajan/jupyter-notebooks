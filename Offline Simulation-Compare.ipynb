{
 "cells": [
  {
   "cell_type": "code",
   "execution_count": 1,
   "metadata": {},
   "outputs": [],
   "source": [
    "import numpy as np\n",
    "from vowpalwabbit import pyvw\n",
    "from newsenv import simple_news\n",
    "import random\n",
    "import matplotlib.pyplot as plt\n",
    "import pandas as pd\n",
    "import itertools"
   ]
  },
  {
   "cell_type": "code",
   "execution_count": 2,
   "metadata": {},
   "outputs": [],
   "source": [
    "def to_vw_example_format(context, actions, cb_label = None):\n",
    "    if cb_label is not None:\n",
    "        chosen_action, cost, prob = cb_label\n",
    "    example_string = \"\"\n",
    "    example_string += \"shared |User user={} time_of_day={}\\n\".format(context[\"user\"], context[\"tod\"])\n",
    "    for action in actions:\n",
    "        if cb_label is not None and action == chosen_action:\n",
    "            example_string += \"0:{}:{} \".format(cost, prob)\n",
    "        example_string += \"|Action article={} \\n\".format(action)\n",
    "    #Strip the last newline\n",
    "    return example_string[:-1]"
   ]
  },
  {
   "cell_type": "code",
   "execution_count": 3,
   "metadata": {},
   "outputs": [],
   "source": [
    "def train_offline(env,vw,input_df,actions):\n",
    "    t_cost_sum = 0. #Training Algo\n",
    "    t_ctr=[]        \n",
    "    \n",
    "    o_cost_sum=0.   #Optimal Algo\n",
    "    o_ctr=[]\n",
    "    \n",
    "    off_cost_sum=0. #Offline collected data\n",
    "    off_ctr=[]      \n",
    "    for i in range(len(input_df)):\n",
    "        action = input_df.loc[i, \"action\"]\n",
    "        cost = input_df.loc[i, \"cost\"]\n",
    "        prob = input_df.loc[i, \"prob\"]\n",
    "        user = input_df.loc[i, \"user\"]\n",
    "        tod = input_df.loc[i, \"tod\"]\n",
    "        context={\"user\":user,\"tod\":tod}                    \n",
    "        vw_format = vw.parse(to_vw_example_format(context, actions, (action, cost, prob)),pyvw.vw.lContextualBandit)            \n",
    "        vw.learn(vw_format)\n",
    "        \n",
    "        t_action=get_action(vw, context, actions) #Take action according to current policy in learning \n",
    "        t_cost = env.get_cost(context, t_action)  #Get cost on the policy currently being learnt \n",
    "        t_cost_sum += t_cost\n",
    "        t_ctr.append(-1*t_cost_sum/(i+1))\n",
    "        \n",
    "        off_cost_sum+=cost #Obtain the cost of the offline data collected \n",
    "        off_ctr.append(-1*off_cost_sum/(i+1)) \n",
    "        \n",
    "        o_action=env.get_optimal_action(context) #Obtain the optimal action to be taken \n",
    "        o_cost=env.get_cost(context,o_action)\n",
    "        o_cost_sum+=o_cost\n",
    "        o_ctr.append(-1*o_cost_sum/(i+1))  #Collect the cost of the optimal action\n",
    "        \n",
    "        \n",
    "        \n",
    "        \n",
    "        \n",
    "    return t_ctr,off_ctr,o_ctr,t_cost_sum,off_cost_sum,o_cost_sum"
   ]
  },
  {
   "cell_type": "code",
   "execution_count": 4,
   "metadata": {},
   "outputs": [],
   "source": [
    "def get_action(vw, context, actions):\n",
    "    vw_text_example = to_vw_example_format(context,actions)    \n",
    "    pmf = vw.predict(vw_text_example)\n",
    "    pmf=np.array(pmf)\n",
    "    pmf=pmf/sum(pmf)\n",
    "    chosen_action_index=np.random.choice(np.arange(len(actions)),p=pmf)    \n",
    "    return chosen_action_index"
   ]
  },
  {
   "cell_type": "code",
   "execution_count": 5,
   "metadata": {},
   "outputs": [],
   "source": [
    "def plot_ctr(num_iterations,t_ctr,off_ctr,o_ctr):\n",
    "    plt.plot(range(1,num_iterations+1), t_ctr,'--r',label='Offline Learnt Algo')\n",
    "    plt.plot(range(1,num_iterations+1), off_ctr,'--b',label='Training Data')\n",
    "    plt.plot(range(1,num_iterations+1), o_ctr,'--k',label='Optimal Algo')\n",
    "    plt.xlabel('num_iterations', fontsize=14)\n",
    "    plt.ylabel('ctr', fontsize=14)\n",
    "    plt.ylim([0,1])\n",
    "    plt.legend()\n",
    "    plt.grid()"
   ]
  },
  {
   "cell_type": "code",
   "execution_count": 6,
   "metadata": {},
   "outputs": [
    {
     "name": "stdout",
     "output_type": "stream",
     "text": [
      "Algorithm total reward: 3499.0 Offline Data total reward : 3521.0 Optimal total reward: 3976.0\n"
     ]
    },
    {
     "data": {
      "image/png": "[encoded data removed]",
      "text/plain": [
       "<Figure size 432x288 with 1 Axes>"
      ]
     },
     "metadata": {
      "needs_background": "light"
     },
     "output_type": "display_data"
    }
   ],
   "source": [
    "input_df=pd.read_csv('Testdata.csv')\n",
    "actions = [\"politics\", \"sports\", \"music\", \"food\", \"finance\"]\n",
    "vw = pyvw.vw(\"--cb_explore_adf -q UA --quiet --epsilon 0.2\")\n",
    "env=simple_news()\n",
    "t_ctr,off_ctr,o_ctr,t_cost_sum,off_cost_sum,o_cost_sum=train_offline(env,vw,input_df,actions)\n",
    "num_iterations=len(t_ctr)\n",
    "plot_ctr(num_iterations,t_ctr,off_ctr,o_ctr)\n",
    "print('Algorithm total reward: '+str(-1*t_cost_sum)+\n",
    "      ' Offline Data total reward : '+str(-1*off_cost_sum)+' Optimal total reward: ' +str(-1*o_cost_sum))"
   ]
  },
  {
   "cell_type": "code",
   "execution_count": null,
   "metadata": {},
   "outputs": [],
   "source": []
  }
 ],
 "metadata": {
  "kernelspec": {
   "display_name": "Python 3",
   "language": "python",
   "name": "python3"
  },
  "language_info": {
   "codemirror_mode": {
    "name": "ipython",
    "version": 3
   },
   "file_extension": ".py",
   "mimetype": "text/x-python",
   "name": "python",
   "nbconvert_exporter": "python",
   "pygments_lexer": "ipython3",
   "version": "3.6.10"
  }
 },
 "nbformat": 4,
 "nbformat_minor": 4
}
