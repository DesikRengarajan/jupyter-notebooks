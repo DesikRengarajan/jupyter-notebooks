{
 "cells": [
  {
   "cell_type": "code",
   "execution_count": 1,
   "metadata": {},
   "outputs": [],
   "source": [
    "import numpy as np\n",
    "from vowpalwabbit import pyvw\n",
    "from newsenv import simple_news\n",
    "import random\n",
    "import matplotlib.pyplot as plt\n",
    "import pandas as pd\n",
    "import itertools"
   ]
  },
  {
   "cell_type": "code",
   "execution_count": 2,
   "metadata": {},
   "outputs": [],
   "source": [
    "def to_vw_format(context,cb_label=None):\n",
    "    if cb_label is None:\n",
    "        example=\"| \"+str(context[\"user\"])+\" \"+str(context[\"tod\"])\n",
    "        return example\n",
    "    else:\n",
    "        action,cost,prob=cb_label\n",
    "        example=str(action) + \":\" + str(cost) + \":\" + str(prob)+\" | \"+str(context[\"user\"])+\" \"+str(context[\"tod\"])\n",
    "        return example"
   ]
  },
  {
   "cell_type": "code",
   "execution_count": 3,
   "metadata": {},
   "outputs": [],
   "source": [
    "def get_a_prob(pmf,actions):\n",
    "    pmf=np.array(pmf)\n",
    "    pmf=pmf/sum(pmf)\n",
    "    a=np.random.choice(actions,p=pmf)\n",
    "    i=actions.index(a)\n",
    "    prob=pmf[i]\n",
    "    return a,prob  "
   ]
  },
  {
   "cell_type": "code",
   "execution_count": 4,
   "metadata": {},
   "outputs": [],
   "source": [
    "def run_simulation(agent,env,actions,num_iterations):\n",
    "    cost_sum=0.\n",
    "    ctr=[]\n",
    "    values=[]\n",
    "    for i in range(1,num_iterations+1):\n",
    "        context=env.get_context()\n",
    "        pmf=agent.predict(context)\n",
    "        a,prob=get_a_prob(pmf,actions)\n",
    "        cost=env.get_cost(context,a-1)\n",
    "        cost_sum+=cost\n",
    "        learn_example=to_vw_format(context,(a,cost,prob))\n",
    "        agent.learn(learn_example)\n",
    "        ctr.append(-1*cost_sum/i)\n",
    "    return ctr,cost_sum"
   ]
  },
  {
   "cell_type": "code",
   "execution_count": 5,
   "metadata": {},
   "outputs": [],
   "source": [
    "def plot_ctr(num_iterations, ctr):\n",
    "    plt.plot(range(1,num_iterations+1), ctr)\n",
    "    plt.xlabel('num_iterations', fontsize=14)\n",
    "    plt.ylabel('ctr', fontsize=14)\n",
    "    plt.ylim([0,1])"
   ]
  },
  {
   "cell_type": "code",
   "execution_count": 8,
   "metadata": {},
   "outputs": [
    {
     "name": "stdout",
     "output_type": "stream",
     "text": [
      "Reward: 1348.0\n"
     ]
    },
    {
     "data": {
      "image/png": "[encoded data removed]",
      "text/plain": [
       "<Figure size 432x288 with 1 Axes>"
      ]
     },
     "metadata": {
      "needs_background": "light"
     },
     "output_type": "display_data"
    }
   ],
   "source": [
    "env=simple_news()\n",
    "n_actions=5\n",
    "actions=[i+1 for i in range(n_actions)]\n",
    "agent = pyvw.vw(\"--cb_explore 5 --quiet --epsilon 0.1\")\n",
    "n_iter=5000\n",
    "ctr,cost_sum=run_simulation(agent,env,actions,n_iter)\n",
    "plot_ctr(n_iter, ctr)\n",
    "print('Reward: ' +str(-1*cost_sum))"
   ]
  },
  {
   "cell_type": "code",
   "execution_count": null,
   "metadata": {},
   "outputs": [],
   "source": []
  }
 ],
 "metadata": {
  "kernelspec": {
   "display_name": "Python 3",
   "language": "python",
   "name": "python3"
  },
  "language_info": {
   "codemirror_mode": {
    "name": "ipython",
    "version": 3
   },
   "file_extension": ".py",
   "mimetype": "text/x-python",
   "name": "python",
   "nbconvert_exporter": "python",
   "pygments_lexer": "ipython3",
   "version": "3.6.10"
  }
 },
 "nbformat": 4,
 "nbformat_minor": 4
}
