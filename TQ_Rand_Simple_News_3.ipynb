{
 "cells": [
  {
   "cell_type": "code",
   "execution_count": 1,
   "metadata": {},
   "outputs": [],
   "source": [
    "import numpy as np\n",
    "from newsenv import rand_simple_news_3\n",
    "from newsenv import rand_news\n",
    "import random\n",
    "import matplotlib.pyplot as plt\n",
    "from learning import CBT"
   ]
  },
  {
   "cell_type": "code",
   "execution_count": 2,
   "metadata": {},
   "outputs": [],
   "source": [
    "def to_CBT(context):\n",
    "    u=int(context['user'])    \n",
    "    return u   "
   ]
  },
  {
   "cell_type": "code",
   "execution_count": 3,
   "metadata": {},
   "outputs": [],
   "source": [
    "def run_simulation(agent,env,num_iterations,epsilon,lr):\n",
    "    cost_sum = 0.\n",
    "    o_cost_sum=0\n",
    "    ctr = []\n",
    "    o_ctr=[]\n",
    "    test_data=[]\n",
    "    for i in range(1, num_iterations+1):\n",
    "        context=env.get_context()\n",
    "        context_i=to_CBT(context)\n",
    "        action=agent.act(context_i,epsilon)        \n",
    "        cost = env.get_cost(context, action)\n",
    "        cost_sum += cost\n",
    "        agent.update(context_i,action,-1*cost,epsilon,lr)           \n",
    "        ctr.append(-1*cost_sum/i)\n",
    "        o_action=env.get_e_optimal_action(context,epsilon) #Obtaining reward accoeding to e-optimal action\n",
    "        o_cost=env.get_cost(context,o_action)\n",
    "        o_cost_sum+=o_cost\n",
    "        o_ctr.append(-1*o_cost_sum/i)\n",
    "    return ctr,cost_sum,o_ctr,o_cost_sum"
   ]
  },
  {
   "cell_type": "code",
   "execution_count": 4,
   "metadata": {},
   "outputs": [],
   "source": [
    "def plot_ctr(avg_ctr,avg_o_ctr,maxP,minP):\n",
    "    mean_ctr=np.mean(avg_ctr,axis=0)\n",
    "    std_ctr=np.std(avg_ctr,axis=0)\n",
    "    mean_o_ctr=np.mean(avg_o_ctr,axis=0)\n",
    "    std_o_ctr=np.std(avg_o_ctr,axis=0)\n",
    "    x=range(1,len(mean_ctr)+1)\n",
    "    eve=int(len(x)/10)\n",
    "    plt_lim=0.2\n",
    "    plt.errorbar(x,mean_ctr,yerr=std_ctr,errorevery=eve,label='Learnt',fmt='--b')\n",
    "    plt.errorbar(x,mean_o_ctr,yerr=std_o_ctr,errorevery=eve,label='Optimal',fmt='--r')\n",
    "    plt.xlabel('num_iterations', fontsize=14)\n",
    "    plt.ylabel('ctr', fontsize=14)\n",
    "    plt.ylim([minP*(1-plt_lim),maxP*(1+plt_lim)])\n",
    "    plt.legend()\n",
    "    plt.grid()"
   ]
  },
  {
   "cell_type": "code",
   "execution_count": 5,
   "metadata": {},
   "outputs": [
    {
     "name": "stdout",
     "output_type": "stream",
     "text": [
      "Optimal Policy:  [0 1 2 7 4 5 8 3 9 6]\n",
      "Trained Policy:  [0 4 2 7 4 5 8 3 9 6]\n",
      "----------------\n",
      "Optimal Policy:  [8 4 6 7 5 2 1 3 9 0]\n",
      "Trained Policy:  [8 4 6 7 5 2 1 3 9 0]\n",
      "----------------\n",
      "Optimal Policy:  [4 0 6 7 9 8 5 1 3 2]\n",
      "Trained Policy:  [4 0 6 7 9 8 5 1 3 2]\n",
      "----------------\n",
      "Optimal Policy:  [2 8 5 4 9 1 3 6 0 7]\n",
      "Trained Policy:  [2 8 5 4 9 1 3 6 0 7]\n",
      "----------------\n",
      "Optimal Policy:  [2 9 4 0 5 7 3 6 8 1]\n",
      "Trained Policy:  [2 9 4 0 5 7 3 6 8 1]\n",
      "----------------\n",
      "Optimal total reward: 76593.2 Algorithm total reward: 68989.6\n"
     ]
    },
    {
     "data": {
      "image/png": "[encoded data removed]",
      "text/plain": [
       "<Figure size 432x288 with 1 Axes>"
      ]
     },
     "metadata": {
      "needs_background": "light"
     },
     "output_type": "display_data"
    }
   ],
   "source": [
    "num_user=10\n",
    "num_action=10\n",
    "maxP=0.04\n",
    "minP=0.03\n",
    "num_states=num_user\n",
    "num_iter=2000000\n",
    "eps=0.2\n",
    "lr=5e-4\n",
    "num_avg=5\n",
    "avg_ctr=[]\n",
    "avg_cost_sum=[]\n",
    "avg_o_ctr=[]\n",
    "avg_o_cost_sum=[]\n",
    "for _ in range(num_avg):\n",
    "    env=rand_simple_news_3(num_user,num_action,maxP,minP)        \n",
    "    agent=CBT(num_states,num_action)\n",
    "    ctr,cost_sum,o_ctr,o_cost_sum=run_simulation(agent,env,num_iter,eps,lr)\n",
    "    avg_ctr.append(ctr)\n",
    "    avg_cost_sum.append(cost_sum)\n",
    "    avg_o_ctr.append(o_ctr)\n",
    "    avg_o_cost_sum.append(o_cost_sum)\n",
    "    print('Optimal Policy: ',env.interest)    \n",
    "    print('Trained Policy: ',agent.get_policy())\n",
    "    print('----------------')\n",
    "\n",
    "plot_ctr(avg_ctr,avg_o_ctr,maxP,minP)\n",
    "print('Optimal total reward: '+str(-1*np.mean(avg_o_cost_sum))+' Algorithm total reward: '+str(-1*np.mean(avg_cost_sum)))"
   ]
  },
  {
   "cell_type": "code",
   "execution_count": null,
   "metadata": {},
   "outputs": [],
   "source": []
  }
 ],
 "metadata": {
  "kernelspec": {
   "display_name": "Python 3",
   "language": "python",
   "name": "python3"
  },
  "language_info": {
   "codemirror_mode": {
    "name": "ipython",
    "version": 3
   },
   "file_extension": ".py",
   "mimetype": "text/x-python",
   "name": "python",
   "nbconvert_exporter": "python",
   "pygments_lexer": "ipython3",
   "version": "3.6.10"
  }
 },
 "nbformat": 4,
 "nbformat_minor": 4
}
