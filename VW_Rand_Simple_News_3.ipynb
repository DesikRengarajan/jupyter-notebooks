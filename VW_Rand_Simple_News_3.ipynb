{
 "cells": [
  {
   "cell_type": "code",
   "execution_count": 1,
   "metadata": {},
   "outputs": [],
   "source": [
    "import numpy as np\n",
    "from vowpalwabbit import pyvw\n",
    "from newsenv import rand_simple_news_3\n",
    "import random\n",
    "import matplotlib.pyplot as plt"
   ]
  },
  {
   "cell_type": "code",
   "execution_count": 2,
   "metadata": {},
   "outputs": [],
   "source": [
    "def to_vw_example_format(context, actions, cb_label = None):\n",
    "    if cb_label is not None:\n",
    "        chosen_action, cost, prob = cb_label\n",
    "    example_string = \"\"\n",
    "    example_string += \"shared |User user={}\\n\".format(context[\"user\"])\n",
    "    for action in actions:\n",
    "        if cb_label is not None and action == chosen_action:\n",
    "            example_string += \"0:{}:{} \".format(cost, prob)\n",
    "        example_string += \"|Action article={} \\n\".format(action)\n",
    "    #Strip the last newline\n",
    "    return example_string[:-1]"
   ]
  },
  {
   "cell_type": "code",
   "execution_count": 3,
   "metadata": {},
   "outputs": [],
   "source": [
    "def sample_custom_pmf(pmf):\n",
    "    total = sum(pmf)\n",
    "    scale = 1/total\n",
    "    pmf = [x * scale for x in pmf]\n",
    "    draw = random.random()\n",
    "    sum_prob = 0.0\n",
    "    for index, prob in enumerate(pmf):\n",
    "        sum_prob += prob\n",
    "        if(sum_prob > draw):\n",
    "            return index, prob\n",
    "\n",
    "def get_action(vw, context, actions):\n",
    "    vw_text_example = to_vw_example_format(context,actions)    \n",
    "    pmf = vw.predict(vw_text_example)   \n",
    "    chosen_action_index, prob = sample_custom_pmf(pmf)    \n",
    "    return chosen_action_index,actions[chosen_action_index], prob"
   ]
  },
  {
   "cell_type": "code",
   "execution_count": 4,
   "metadata": {},
   "outputs": [],
   "source": [
    "def run_simulation(vw,env,actions,num_iterations,epsilon,do_learn = True):\n",
    "    cost_sum = 0.\n",
    "    o_cost_sum=0\n",
    "    ctr = []\n",
    "    o_ctr=[]\n",
    "    test_data=[]\n",
    "    for i in range(1, num_iterations+1):\n",
    "        context=env.get_context()        \n",
    "        action_i,action, prob = get_action(vw, context, actions)        \n",
    "        cost = env.get_cost(context, action_i)\n",
    "        cost_sum += cost\n",
    "        if do_learn:            \n",
    "            vw_format = vw.parse(to_vw_example_format(context, actions, (action, cost, prob)),pyvw.vw.lContextualBandit)            \n",
    "            vw.learn(vw_format)\n",
    "            vw.finish_example(vw_format)\n",
    "#         ctr.append(-1*cost_sum/i)\n",
    "        ctr.append(-1*cost)\n",
    "        o_action=env.get_e_optimal_action(context,epsilon) #Obtaining reward accoeding to e-optimal action\n",
    "        o_cost=env.get_cost(context,o_action)\n",
    "        o_cost_sum+=o_cost\n",
    "#         o_ctr.append(-1*o_cost_sum/i)\n",
    "        o_ctr.append(-1*o_cost)\n",
    "    return ctr,cost_sum,o_ctr,o_cost_sum"
   ]
  },
  {
   "cell_type": "code",
   "execution_count": 5,
   "metadata": {},
   "outputs": [],
   "source": [
    "def plot_ctr(avg_ctr,avg_o_ctr,maxP,minP):\n",
    "    mean_ctr=np.mean(avg_ctr,axis=0)\n",
    "    std_ctr=np.std(avg_ctr,axis=0)\n",
    "    mean_o_ctr=np.mean(avg_o_ctr,axis=0)\n",
    "    std_o_ctr=np.std(avg_o_ctr,axis=0)\n",
    "    x=range(1,len(mean_ctr)+1)\n",
    "    eve=int(len(x)/10)\n",
    "    plt_lim=0.2\n",
    "    plt.plot(x,mean_ctr,'--b',label='Learnt', alpha=0.6)\n",
    "    plt.fill_between(x, mean_ctr-std_ctr,mean_ctr+std_ctr, alpha=0.4)\n",
    "    plt.fill_between(x, mean_o_ctr-std_o_ctr,mean_o_ctr+std_o_ctr,'r',alpha=0.4)\n",
    "#     plt.errorbar(x,mean_ctr,yerr=std_ctr,errorevery=eve,label='Learnt',fmt='--b')\n",
    "#     plt.errorbar(x,mean_o_ctr,yerr=std_o_ctr,errorevery=eve,label='Optimal',fmt='--r')\n",
    "    plt.plot(x,mean_o_ctr,'--r',label='Optimal', alpha=0.6)\n",
    "    plt.xlabel('Events', fontsize=14)\n",
    "    plt.ylabel('ctr', fontsize=14)\n",
    "    plt.ylim([minP*(1-plt_lim),maxP*(1+plt_lim)])\n",
    "    plt.legend()\n",
    "    plt.grid()\n",
    "    plt.savefig('VWRSN3.pdf')\n",
    "    plt.savefig('VWRSN3.jpg')\n",
    "    plt.savefig('VWRSN3.png')"
   ]
  },
  {
   "cell_type": "code",
   "execution_count": 6,
   "metadata": {},
   "outputs": [],
   "source": [
    "def get_avg(array,N=100000):\n",
    "    cumsum, moving_aves = [0], []\n",
    "    for i, x in enumerate(array, 1):\n",
    "        cumsum.append(cumsum[i-1] + x)\n",
    "        if i>=N:\n",
    "            moving_ave = (cumsum[i] - cumsum[i-N])/N           \n",
    "        else:\n",
    "            moving_ave=cumsum[i]/i\n",
    "        \n",
    "        moving_aves.append(moving_ave)\n",
    "            \n",
    "    return moving_aves"
   ]
  },
  {
   "cell_type": "code",
   "execution_count": 7,
   "metadata": {},
   "outputs": [],
   "source": [
    "def evaluate_pol(vw,num_user,actions):\n",
    "    pol=[]\n",
    "    for u in range(num_user):\n",
    "        context={'user':u}\n",
    "        vw_text_example = to_vw_example_format(context,actions)    \n",
    "        pmf = vw.predict(vw_text_example)   \n",
    "        a = np.argmax(pmf)\n",
    "        pol.append(a)\n",
    "    return pol"
   ]
  },
  {
   "cell_type": "code",
   "execution_count": 8,
   "metadata": {},
   "outputs": [
    {
     "name": "stdout",
     "output_type": "stream",
     "text": [
      "Optimal Policy:  [6, 3, 9, 1, 5, 2, 4, 7, 0, 8]\n",
      "Trained Policy:  [7, 3, 9, 7, 5, 2, 4, 7, 0, 8]\n",
      "----------------\n",
      "Optimal Policy:  [0, 4, 9, 7, 5, 2, 1, 3, 8, 6]\n",
      "Trained Policy:  [0, 4, 9, 7, 5, 2, 1, 3, 8, 6]\n",
      "----------------\n",
      "Optimal Policy:  [8, 4, 6, 5, 2, 7, 9, 0, 3, 1]\n",
      "Trained Policy:  [8, 4, 6, 5, 2, 7, 9, 0, 3, 1]\n",
      "----------------\n",
      "Optimal Policy:  [5, 2, 7, 0, 6, 9, 1, 4, 8, 3]\n",
      "Trained Policy:  [5, 2, 7, 0, 6, 9, 1, 4, 8, 3]\n",
      "----------------\n",
      "Optimal Policy:  [6, 1, 2, 8, 7, 5, 9, 0, 4, 3]\n",
      "Trained Policy:  [6, 1, 2, 8, 7, 5, 9, 0, 4, 3]\n",
      "----------------\n"
     ]
    }
   ],
   "source": [
    "num_user=10\n",
    "num_action=10\n",
    "maxP=0.04\n",
    "minP=0.03\n",
    "actions = [str(i) for i in range(num_action)]\n",
    "eps=0.2\n",
    "num_iterations = 2000000\n",
    "num_avg=5\n",
    "avg_ctr=[]\n",
    "avg_cost_sum=[]\n",
    "avg_o_ctr=[]\n",
    "avg_o_cost_sum=[]\n",
    "for _ in range(num_avg):\n",
    "    env=rand_simple_news_3(num_user,num_action,maxP,minP)        \n",
    "    vw = pyvw.vw(\"--cb_explore_adf -q UA --coin --quiet --clip_p 0.2 --epsilon \"+str(eps))\n",
    "    ctr_1,cost_sum,o_ctr_1,o_cost_sum = run_simulation(vw,env,actions,num_iterations,eps)\n",
    "    ctr=get_avg(ctr_1)\n",
    "    o_ctr=get_avg(o_ctr_1)\n",
    "    avg_ctr.append(ctr)\n",
    "    avg_cost_sum.append(cost_sum)\n",
    "    avg_o_ctr.append(o_ctr)\n",
    "    avg_o_cost_sum.append(o_cost_sum)\n",
    "    print('Optimal Policy: ',list(env.interest))\n",
    "    trained_policy=evaluate_pol(vw,num_user,actions)\n",
    "    print('Trained Policy: ',trained_policy)\n",
    "    print('----------------')\n",
    "\n"
   ]
  },
  {
   "cell_type": "code",
   "execution_count": 9,
   "metadata": {},
   "outputs": [
    {
     "name": "stderr",
     "output_type": "stream",
     "text": [
      "C:\\Users\\t-desikr\\Anaconda3\\envs\\myenv\\lib\\site-packages\\ipykernel_launcher.py:11: MatplotlibDeprecationWarning: The parameter where must have the same size as x in fill_between(). This will become an error in future versions of Matplotlib.\n",
      "  # This is added back by InteractiveShellApp.init_path()\n"
     ]
    },
    {
     "name": "stdout",
     "output_type": "stream",
     "text": [
      "Optimal total reward: 76608.0 Algorithm total reward: 72849.6\n"
     ]
    },
    {
     "data": {
      "image/png": "[encoded data removed]",
      "text/plain": [
       "<Figure size 432x288 with 1 Axes>"
      ]
     },
     "metadata": {
      "needs_background": "light"
     },
     "output_type": "display_data"
    }
   ],
   "source": [
    "plot_ctr(avg_ctr,avg_o_ctr,maxP,minP)\n",
    "print('Optimal total reward: '+str(-1*np.mean(avg_o_cost_sum))+' Algorithm total reward: '+str(-1*np.mean(avg_cost_sum)))"
   ]
  },
  {
   "cell_type": "code",
   "execution_count": null,
   "metadata": {},
   "outputs": [],
   "source": []
  }
 ],
 "metadata": {
  "kernelspec": {
   "display_name": "Python 3",
   "language": "python",
   "name": "python3"
  },
  "language_info": {
   "codemirror_mode": {
    "name": "ipython",
    "version": 3
   },
   "file_extension": ".py",
   "mimetype": "text/x-python",
   "name": "python",
   "nbconvert_exporter": "python",
   "pygments_lexer": "ipython3",
   "version": "3.6.10"
  }
 },
 "nbformat": 4,
 "nbformat_minor": 4
}
