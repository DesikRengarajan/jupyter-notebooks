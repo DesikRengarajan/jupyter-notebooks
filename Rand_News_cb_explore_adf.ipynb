{
 "cells": [
  {
   "cell_type": "code",
   "execution_count": 1,
   "metadata": {},
   "outputs": [],
   "source": [
    "import numpy as np\n",
    "from vowpalwabbit import pyvw\n",
    "from newsenv import rand_news\n",
    "import random\n",
    "import matplotlib.pyplot as plt\n",
    "import pandas as pd\n",
    "import itertools"
   ]
  },
  {
   "cell_type": "code",
   "execution_count": 2,
   "metadata": {},
   "outputs": [],
   "source": [
    "def to_vw_example_format(context, actions, cb_label = None):\n",
    "    if cb_label is not None:\n",
    "        chosen_action, cost, prob = cb_label\n",
    "    example_string = \"\"\n",
    "    example_string += \"shared |User user={} time_of_day={}\\n\".format(context[\"user\"], context[\"tod\"])\n",
    "    for action in actions:\n",
    "        if cb_label is not None and action == chosen_action:\n",
    "            example_string += \"0:{}:{} \".format(cost, prob)\n",
    "        example_string += \"|Action article={} \\n\".format(action)\n",
    "    #Strip the last newline\n",
    "    return example_string[:-1]"
   ]
  },
  {
   "cell_type": "code",
   "execution_count": 3,
   "metadata": {},
   "outputs": [],
   "source": [
    "def sample_custom_pmf(pmf):\n",
    "    total = sum(pmf)\n",
    "    scale = 1/total\n",
    "    pmf = [x * scale for x in pmf]\n",
    "    draw = random.random()\n",
    "    sum_prob = 0.0\n",
    "    for index, prob in enumerate(pmf):\n",
    "        sum_prob += prob\n",
    "        if(sum_prob > draw):\n",
    "            return index, prob\n",
    "\n",
    "def get_action(vw, context, actions):\n",
    "    vw_text_example = to_vw_example_format(context,actions)    \n",
    "    pmf = vw.predict(vw_text_example)   \n",
    "    chosen_action_index, prob = sample_custom_pmf(pmf)    \n",
    "    return chosen_action_index,actions[chosen_action_index], prob"
   ]
  },
  {
   "cell_type": "code",
   "execution_count": 4,
   "metadata": {},
   "outputs": [],
   "source": [
    "def run_simulation(vw,env,actions,num_iterations,epsilon,do_learn = True):\n",
    "    cost_sum = 0.\n",
    "    o_cost_sum=0\n",
    "    ctr = []\n",
    "    o_ctr=[]\n",
    "    test_data=[]\n",
    "    for i in range(1, num_iterations+1):\n",
    "        context=env.get_context()        \n",
    "        action_i,action, prob = get_action(vw, context, actions)        \n",
    "        cost = env.get_cost(context, action_i)\n",
    "        cost_sum += cost\n",
    "#         data_f={'action_i':action_i,'action':action,'cost':cost,'prob':prob}\n",
    "#         data_f.update(context)\n",
    "#         test_data.append(data_f)\n",
    "        if do_learn:            \n",
    "            vw_format = vw.parse(to_vw_example_format(context, actions, (action, cost, prob)),pyvw.vw.lContextualBandit)            \n",
    "            vw.learn(vw_format)            \n",
    "        ctr.append(-1*cost_sum/i)\n",
    "        o_action=env.get_e_optimal_action(context,epsilon) #Obtaining reward accoeding to e-optimal action\n",
    "#         o_action=env.get_optimal_action(context) #Obtaining reward accoeding to optimal action\n",
    "        o_cost=env.get_cost(context,o_action)\n",
    "        o_cost_sum+=o_cost\n",
    "        o_ctr.append(-1*o_cost_sum/i)       \n",
    "#     test_df=pd.DataFrame(test_data)\n",
    "#     test_df.to_csv('Testdata.csv')\n",
    "    return ctr,cost_sum,o_ctr,o_cost_sum"
   ]
  },
  {
   "cell_type": "code",
   "execution_count": 5,
   "metadata": {},
   "outputs": [],
   "source": [
    "def plot_ctr(num_iterations, ctr,o_ctr):\n",
    "    plt.plot(range(1,num_iterations+1), ctr,'--b',label='Learnt')\n",
    "    plt.plot(range(1,num_iterations+1), o_ctr,'--r',label='Optimal')\n",
    "    plt.xlabel('num_iterations', fontsize=14)\n",
    "    plt.ylabel('ctr', fontsize=14)\n",
    "    plt.ylim([0,1])\n",
    "    plt.legend()\n",
    "    plt.grid()"
   ]
  },
  {
   "cell_type": "code",
   "execution_count": 6,
   "metadata": {},
   "outputs": [
    {
     "name": "stdout",
     "output_type": "stream",
     "text": [
      "Optimal total reward: 21843.0 Algorithm total reward: 14803.0\n"
     ]
    },
    {
     "data": {
      "image/png": "[encoded data removed]",
      "text/plain": [
       "<Figure size 432x288 with 1 Axes>"
      ]
     },
     "metadata": {
      "needs_background": "light"
     },
     "output_type": "display_data"
    }
   ],
   "source": [
    "num_user=30\n",
    "num_action=10\n",
    "maxP=0.8\n",
    "minP=0.4\n",
    "env=rand_news(num_user,num_action,maxP,minP)\n",
    "actions = [str(i) for i in range(num_action)]\n",
    "eps=0.2\n",
    "vw = pyvw.vw(\"--cb_explore_adf -q UA --quiet --coin --epsilon \"+str(eps))\n",
    "num_iterations = 30000\n",
    "ctr,cost_sum,o_ctr,o_cost_sum = run_simulation(vw,env,actions,num_iterations,eps)\n",
    "plot_ctr(num_iterations, ctr,o_ctr)\n",
    "print('Optimal total reward: '+str(-1*o_cost_sum)+' Algorithm total reward: '+str(-1*cost_sum))"
   ]
  },
  {
   "cell_type": "code",
   "execution_count": 7,
   "metadata": {},
   "outputs": [],
   "source": [
    "def get_moving_average(array,N=50):\n",
    "    cumsum, moving_aves = [0], []\n",
    "    for i, x in enumerate(array, 1):\n",
    "        cumsum.append(cumsum[i-1] + x)\n",
    "        if i>=N:\n",
    "            moving_ave = (cumsum[i] - cumsum[i-N])/N       \n",
    "            moving_aves.append(moving_ave)\n",
    "    return moving_aves"
   ]
  },
  {
   "cell_type": "code",
   "execution_count": 8,
   "metadata": {},
   "outputs": [
    {
     "data": {
      "image/png": "[encoded data removed]",
      "text/plain": [
       "<Figure size 432x288 with 1 Axes>"
      ]
     },
     "metadata": {
      "needs_background": "light"
     },
     "output_type": "display_data"
    }
   ],
   "source": [
    "avg_ctr=get_moving_average(ctr)\n",
    "avg_o_ctr=get_moving_average(o_ctr)\n",
    "n=len(avg_ctr)\n",
    "plot_ctr(n,avg_ctr,avg_o_ctr)"
   ]
  },
  {
   "cell_type": "code",
   "execution_count": null,
   "metadata": {},
   "outputs": [],
   "source": []
  }
 ],
 "metadata": {
  "kernelspec": {
   "display_name": "Python 3",
   "language": "python",
   "name": "python3"
  },
  "language_info": {
   "codemirror_mode": {
    "name": "ipython",
    "version": 3
   },
   "file_extension": ".py",
   "mimetype": "text/x-python",
   "name": "python",
   "nbconvert_exporter": "python",
   "pygments_lexer": "ipython3",
   "version": "3.6.10"
  }
 },
 "nbformat": 4,
 "nbformat_minor": 4
}
