{
 "cells": [
  {
   "cell_type": "code",
   "execution_count": 1,
   "metadata": {},
   "outputs": [],
   "source": [
    "import numpy as np\n",
    "from vowpalwabbit import pyvw\n",
    "from newsenv import rand_simple_news_3\n",
    "import random\n",
    "import matplotlib.pyplot as plt\n",
    "import pandas as pd\n",
    "from ips_snips import Estimator"
   ]
  },
  {
   "cell_type": "code",
   "execution_count": 2,
   "metadata": {},
   "outputs": [],
   "source": [
    "def to_vw_example_format(context, actions, cb_label = None):\n",
    "    if cb_label is not None:\n",
    "        chosen_action, cost, prob = cb_label\n",
    "    example_string = \"\"\n",
    "    example_string += \"shared |User user={}\\n\".format(context[\"user\"])\n",
    "    for action in actions:\n",
    "        if cb_label is not None and action == chosen_action:\n",
    "            example_string += \"0:{}:{} \".format(cost, prob)\n",
    "        example_string += \"|Action article={} \\n\".format(action)\n",
    "    #Strip the last newline\n",
    "    return example_string[:-1]"
   ]
  },
  {
   "cell_type": "code",
   "execution_count": 3,
   "metadata": {},
   "outputs": [],
   "source": [
    "def get_action(vw, context, actions):\n",
    "    vw_text_example = to_vw_example_format(context,actions)    \n",
    "    pmf = vw.predict(vw_text_example)\n",
    "    pmf=np.array(pmf)\n",
    "    pmf=pmf/sum(pmf)\n",
    "    chosen_action_index=np.random.choice(np.arange(len(actions)),p=pmf)    \n",
    "    return chosen_action_index"
   ]
  },
  {
   "cell_type": "code",
   "execution_count": 4,
   "metadata": {},
   "outputs": [],
   "source": [
    "def train_offline(env,vw,input_df,actions,epsilon):\n",
    "    t_cost_sum = 0. #Training Algo\n",
    "    t_ctr=[]   \n",
    "    o_cost_sum=0.   #Optimal Algo\n",
    "    o_ctr=[]    \n",
    "   \n",
    "    for i in range(len(input_df)):\n",
    "        action = input_df.loc[i, \"action\"]\n",
    "        cost = input_df.loc[i, \"cost\"]\n",
    "        prob = input_df.loc[i, \"prob\"]\n",
    "        user = input_df.loc[i, \"user\"]        \n",
    "        tod = input_df.loc[i, \"tod\"]\n",
    "        context={\"user\":user,\"tod\":tod}                    \n",
    "        vw_format = vw.parse(to_vw_example_format(context, actions, (action, cost, prob)),pyvw.vw.lContextualBandit)            \n",
    "        vw.learn(vw_format)\n",
    "        vw.finish_example(vw_format)\n",
    "        \n",
    "        t_action=get_action(vw, context, actions) #Take action according to current policy in learning \n",
    "        t_cost = env.get_cost(context, t_action)  #Get cost on the policy currently being learnt \n",
    "        t_cost_sum += t_cost\n",
    "        t_ctr.append(-1*t_cost)\n",
    "#         t_ctr.append(-1*t_cost_sum/(i+1))        \n",
    "       \n",
    "        \n",
    "        o_action=env.get_e_optimal_action(context,epsilon) #Obtain the optimal action to be taken \n",
    "        o_cost=env.get_cost(context,o_action)\n",
    "        o_cost_sum+=o_cost\n",
    "        o_ctr.append(-1*o_cost)\n",
    "#         o_ctr.append(-1*o_cost_sum/(i+1))  #Collect the cost of the optimal action\n",
    "\n",
    "    return vw,t_ctr,o_ctr,t_cost_sum,o_cost_sum"
   ]
  },
  {
   "cell_type": "code",
   "execution_count": 5,
   "metadata": {},
   "outputs": [],
   "source": [
    "def plot_ctr(num_iterations,t_ctr,o_ctr,minP,maxP):\n",
    "    plt.plot(range(1,num_iterations+1), t_ctr,'--r',label='Offline Learnt Algo')    \n",
    "    plt.plot(range(1,num_iterations+1), o_ctr,'--k',label='Optimal Algo')\n",
    "    plt.xlabel('num_iterations', fontsize=14)\n",
    "    plt.ylabel('ctr', fontsize=14)\n",
    "    plt_lim=0.2\n",
    "    plt.ylim([minP*(1-plt_lim),maxP*(1+plt_lim)])\n",
    "    plt.legend()\n",
    "    plt.grid()\n",
    "    plt.show()"
   ]
  },
  {
   "cell_type": "code",
   "execution_count": 6,
   "metadata": {},
   "outputs": [],
   "source": [
    "def eval_off_pol(agent,input_df,actions):\n",
    "    est=Estimator()\n",
    "    for i in range(len(input_df)):\n",
    "        action_log = input_df.loc[i, \"action\"]\n",
    "        cost = input_df.loc[i, \"cost\"]\n",
    "        prob_log = input_df.loc[i, \"prob\"]\n",
    "        user = input_df.loc[i, \"user\"]        \n",
    "        tod = input_df.loc[i, \"tod\"]\n",
    "        context={\"user\":user,\"tod\":tod}\n",
    "        vw_text_example = to_vw_example_format(context,actions)    \n",
    "        pmf = agent.predict(vw_text_example)\n",
    "        pmf=np.array(pmf)\n",
    "        pmf=pmf/sum(pmf)\n",
    "        prob_pred=pmf[int(action_log)]\n",
    "        est.add_example(prob_log,-1*cost,prob_pred)\n",
    "    print('IPS estimate: ',est.get_estimate('ips'))\n",
    "    print('SNIPS estimate: ',est.get_estimate('snips'))\n",
    "    print('Clopper-Pearson confidence intervals ', est.get_interval('clopper-pearson'))\n",
    "    print('Gaussian confidence intervals ',est.get_interval('gaussian'))\n",
    "    "
   ]
  },
  {
   "cell_type": "code",
   "execution_count": 7,
   "metadata": {},
   "outputs": [],
   "source": [
    "def get_avg(array,N=30000):\n",
    "    cumsum, moving_aves = [0], []\n",
    "    for i, x in enumerate(array, 1):\n",
    "        cumsum.append(cumsum[i-1] + x)\n",
    "        if i>=N:\n",
    "            moving_ave = (cumsum[i] - cumsum[i-N])/N           \n",
    "        else:\n",
    "            moving_ave=cumsum[i]/i\n",
    "        \n",
    "        moving_aves.append(moving_ave)\n",
    "            \n",
    "    return moving_aves"
   ]
  },
  {
   "cell_type": "code",
   "execution_count": 8,
   "metadata": {},
   "outputs": [
    {
     "data": {
      "image/png": "[encoded data removed]",
      "text/plain": [
       "<Figure size 432x288 with 1 Axes>"
      ]
     },
     "metadata": {
      "needs_background": "light"
     },
     "output_type": "display_data"
    },
    {
     "name": "stdout",
     "output_type": "stream",
     "text": [
      "Algorithm total reward: 72117.0 Optimal total reward: 76199.0\n",
      "IPS estimate:  0.03721412452558278\n",
      "SNIPS estimate:  0.03718865789087133\n",
      "Clopper-Pearson confidence intervals  [0.035551715997774395, 0.038931891883958625]\n",
      "Gaussian confidence intervals  [0.036293218933025104, 0.038135030118140456]\n"
     ]
    }
   ],
   "source": [
    "input_df=pd.read_csv('Testdata.csv')\n",
    "interest_df=pd.read_csv('Interest.csv')\n",
    "num_user=10\n",
    "num_action=10\n",
    "maxP=0.04\n",
    "minP=0.03\n",
    "actions = [i for i in range(num_action)]\n",
    "eps=0.2\n",
    "env=rand_simple_news_3(num_user,num_action,maxP,minP)\n",
    "env.interest=np.array([int(interest_df.loc[i, \"Interest\"]) for i in range(len(interest_df))])\n",
    "vw = pyvw.vw(\"--cb_explore_adf -q UA --coin --quiet --clip_p 0.1 --epsilon \"+str(eps))\n",
    "agent,t_ctr_1,o_ctr_1,t_cost_sum,o_cost_sum=train_offline(env,vw,input_df,actions,eps)\n",
    "t_ctr=get_avg(t_ctr_1)\n",
    "o_ctr=get_avg(o_ctr_1)\n",
    "num_iterations=len(t_ctr)\n",
    "plot_ctr(num_iterations,t_ctr,o_ctr,minP,maxP)\n",
    "print('Algorithm total reward: '+str(-1*t_cost_sum)+' Optimal total reward: ' +str(-1*o_cost_sum))\n",
    "eval_off_pol(agent,input_df,actions)"
   ]
  }
 ],
 "metadata": {
  "kernelspec": {
   "display_name": "Python 3",
   "language": "python",
   "name": "python3"
  },
  "language_info": {
   "codemirror_mode": {
    "name": "ipython",
    "version": 3
   },
   "file_extension": ".py",
   "mimetype": "text/x-python",
   "name": "python",
   "nbconvert_exporter": "python",
   "pygments_lexer": "ipython3",
   "version": "3.6.10"
  }
 },
 "nbformat": 4,
 "nbformat_minor": 4
}
